{
 "cells": [
  {
   "cell_type": "markdown",
   "id": "948102ff",
   "metadata": {},
   "source": [
    "# Práctica 2: Optimización mediante Metahuerísticas\n",
    "\n",
    "En la Práctica 1 se estudiaron métodos de búsqueda para resolver problemas que se pueden representar como un espacio de estados. La particularidad de dichos problemas era que el objetivo era doble: encontrar la mejor solución y encontrar la ruta desde el estado inicial al estado final.\n",
    "\n",
    "En el mundo real existen problemas que solo es necesario encontrar la mejor solución y no el conjunto de estados desde el inicial al final. Estos problemas se conocen como problemas de optimización. Para resolver estos problemas existen distintos tipos de métodos: búsqueda aleatoria, búsqueda local (trayectorias) y basado en poblaciones."
   ]
  },
  {
   "cell_type": "markdown",
   "id": "c37627e5",
   "metadata": {},
   "source": [
    "### 8 Reinas\n",
    "\n",
    "A continuación vamos a ver cómo se resuelve un problema de la práctica 1, el de las 8 reinas, por métodos basados en busqueda sin información y búsqueda local.\n",
    "\n",
    "Primeramente vamos a definir el problema."
   ]
  },
  {
   "cell_type": "code",
   "execution_count": 1,
   "id": "1cf9615f",
   "metadata": {},
   "outputs": [],
   "source": [
    "import sys\n",
    "from search import Problem, Node\n",
    "from utils4e import *\n",
    "from collections import deque\n",
    "\n",
    "class NQueensProblem(Problem):\n",
    "    \"\"\"The problem of placing N queens on an NxN board with none attacking\n",
    "    each other. A state is represented as an N-element array, where\n",
    "    a value of r in the c-th entry means there is a queen at column c,\n",
    "    row r, and a value of -1 means that the c-th column has not been\n",
    "    filled in yet. We fill in columns left to right.\n",
    "    >>> depth_first_tree_search(NQueensProblem(8))\n",
    "    <Node (7, 3, 0, 2, 5, 1, 6, 4)>\n",
    "    \"\"\"\n",
    "\n",
    "    def __init__(self, N):\n",
    "        super().__init__(tuple([-1] * N))\n",
    "        self.N = N\n",
    "\n",
    "    def actions(self, state):\n",
    "        \"\"\"In the leftmost empty column, try all non-conflicting rows.\"\"\"\n",
    "        if state[-1] != -1:\n",
    "            return []  # All columns filled; no successors\n",
    "        else:\n",
    "            col = state.index(-1)\n",
    "            return [row for row in range(self.N)\n",
    "                    if not self.conflicted(state, row, col)]\n",
    "\n",
    "    def result(self, state, row):\n",
    "        \"\"\"Place the next queen at the given row.\"\"\"\n",
    "        col = state.index(-1)\n",
    "        new = list(state[:])\n",
    "        new[col] = row\n",
    "        return tuple(new)\n",
    "\n",
    "    def conflicted(self, state, row, col):\n",
    "        \"\"\"Would placing a queen at (row, col) conflict with anything?\"\"\"\n",
    "        return any(self.conflict(row, col, state[c], c)\n",
    "                   for c in range(col))\n",
    "\n",
    "    def conflict(self, row1, col1, row2, col2):\n",
    "        \"\"\"Would putting two queens in (row1, col1) and (row2, col2) conflict?\"\"\"\n",
    "        return (row1 == row2 or  # same row\n",
    "                col1 == col2 or  # same column\n",
    "                row1 - col1 == row2 - col2 or  # same \\ diagonal\n",
    "                row1 + col1 == row2 + col2)  # same / diagonal\n",
    "\n",
    "    def goal_test(self, state):\n",
    "        \"\"\"Check if all columns filled, no conflicts.\"\"\"\n",
    "        if state[-1] == -1:\n",
    "            return False\n",
    "        return not any(self.conflicted(state, state[col], col)\n",
    "                       for col in range(len(state)))\n",
    "\n",
    "    def h(self, node):\n",
    "        \"\"\"Return number of conflicting queens for a given node\"\"\"\n",
    "        num_conflicts = 0\n",
    "        for (r1, c1) in enumerate(node.state):\n",
    "            for (r2, c2) in enumerate(node.state):\n",
    "                if (r1, c1) != (r2, c2):\n",
    "                    num_conflicts += self.conflict(r1, c1, r2, c2)\n",
    "\n",
    "        return num_conflicts\n",
    "    \n",
    "    def value(self, state):\n",
    "        num_conflicts = 0\n",
    "        for (r1, c1) in enumerate(state):\n",
    "            for (r2, c2) in enumerate(state):\n",
    "                if (r1, c1) != (r2, c2):\n",
    "                    num_conflicts += self.conflict(r1, c1, r2, c2)\n",
    "\n",
    "        return num_conflicts"
   ]
  },
  {
   "cell_type": "markdown",
   "id": "75a7090a",
   "metadata": {},
   "source": [
    "Código para crear el problema que se resolverá con distintos métodos."
   ]
  },
  {
   "cell_type": "code",
   "execution_count": 2,
   "id": "91250e55",
   "metadata": {},
   "outputs": [],
   "source": [
    "problem = NQueensProblem(8)"
   ]
  },
  {
   "cell_type": "markdown",
   "id": "e835f922",
   "metadata": {},
   "source": [
    "Código para imprimir el tablero"
   ]
  },
  {
   "cell_type": "code",
   "execution_count": 3,
   "id": "b3b48c28",
   "metadata": {},
   "outputs": [],
   "source": [
    "def print_result(tlabel, x):\n",
    "    \n",
    "    print(tlabel+\"\\n\")\n",
    "    \n",
    "    \n",
    "    board = [[\"0\"]*len(x) for i in range(len(x))]\n",
    "    for c,r in enumerate(x):\n",
    "        board[r][c] = \"1\"\n",
    "    \n",
    "    print(\"\\n\".join(\" \".join(row) for row in board))"
   ]
  },
  {
   "cell_type": "markdown",
   "id": "5d565b9c",
   "metadata": {},
   "source": [
    "#### Búsqueda sin información\n",
    "##### Búsqueda en profundidad"
   ]
  },
  {
   "cell_type": "code",
   "execution_count": 4,
   "id": "90612e3c",
   "metadata": {},
   "outputs": [],
   "source": [
    "def depth_first_tree_search(problem):\n",
    "    \"\"\"\n",
    "    [Figure 3.7]\n",
    "    Search the deepest nodes in the search tree first.\n",
    "    Search through the successors of a problem to find a goal.\n",
    "    The argument frontier should be an empty queue.\n",
    "    Repeats infinitely in case of loops.\n",
    "    \"\"\"\n",
    "\n",
    "    frontier = [Node(problem.initial)]  # Stack\n",
    "\n",
    "    while frontier:\n",
    "        node = frontier.pop()\n",
    "        if problem.goal_test(node.state):\n",
    "            return node\n",
    "        frontier.extend(node.expand(problem))\n",
    "    return None"
   ]
  },
  {
   "cell_type": "code",
   "execution_count": 5,
   "id": "fe0c9b5b",
   "metadata": {},
   "outputs": [
    {
     "name": "stdout",
     "output_type": "stream",
     "text": [
      "Profundidad\n",
      "\n",
      "0 0 1 0 0 0 0 0\n",
      "0 0 0 0 0 1 0 0\n",
      "0 0 0 1 0 0 0 0\n",
      "0 1 0 0 0 0 0 0\n",
      "0 0 0 0 0 0 0 1\n",
      "0 0 0 0 1 0 0 0\n",
      "0 0 0 0 0 0 1 0\n",
      "1 0 0 0 0 0 0 0\n"
     ]
    }
   ],
   "source": [
    "depth_result = depth_first_tree_search(problem)\n",
    "print_result(\"Profundidad\", depth_result.state)"
   ]
  },
  {
   "cell_type": "markdown",
   "id": "ac1075b5",
   "metadata": {},
   "source": [
    "##### Búsqueda en anchura"
   ]
  },
  {
   "cell_type": "code",
   "execution_count": 6,
   "id": "48614dbb",
   "metadata": {},
   "outputs": [],
   "source": [
    "def breadth_first_tree_search(problem):\n",
    "    \"\"\"\n",
    "    [Figure 3.7]\n",
    "    Search the shallowest nodes in the search tree first.\n",
    "    Search through the successors of a problem to find a goal.\n",
    "    The argument frontier should be an empty queue.\n",
    "    Repeats infinitely in case of loops.\n",
    "    \"\"\"\n",
    "\n",
    "    frontier = deque([Node(problem.initial)])  # FIFO queue\n",
    "\n",
    "    while frontier:\n",
    "        node = frontier.popleft()\n",
    "        if problem.is_goal(node.state):\n",
    "            return node\n",
    "        frontier.extend(node.expand(problem))\n",
    "    return None"
   ]
  },
  {
   "cell_type": "code",
   "execution_count": 7,
   "id": "4e5109ce",
   "metadata": {},
   "outputs": [
    {
     "name": "stdout",
     "output_type": "stream",
     "text": [
      "Anchura\n",
      "\n",
      "0 0 1 0 0 0 0 0\n",
      "0 0 0 0 0 1 0 0\n",
      "0 0 0 1 0 0 0 0\n",
      "0 1 0 0 0 0 0 0\n",
      "0 0 0 0 0 0 0 1\n",
      "0 0 0 0 1 0 0 0\n",
      "0 0 0 0 0 0 1 0\n",
      "1 0 0 0 0 0 0 0\n"
     ]
    }
   ],
   "source": [
    "breadth_result=breadth_first_tree_search(problem)\n",
    "print_result(\"Anchura\", depth_result.state)"
   ]
  },
  {
   "cell_type": "markdown",
   "id": "d19cd8ee",
   "metadata": {},
   "source": [
    "#### Búsqueda Local\n",
    "##### Hill Climbing"
   ]
  },
  {
   "cell_type": "code",
   "execution_count": 8,
   "id": "3eb55fb5",
   "metadata": {},
   "outputs": [],
   "source": [
    "def hill_climbing_min(problem):\n",
    "    \"\"\"\n",
    "    [Figure 4.2]\n",
    "    From the initial node, keep choosing the neighbor with lowest value,\n",
    "    stopping when no neighbor is better.\n",
    "    \"\"\"\n",
    "    current = Node(problem.initial)\n",
    "    while True:\n",
    "        neighbors = current.expand(problem)\n",
    "        if not neighbors:\n",
    "            break\n",
    "        neighbor = argmin_random_tie(neighbors, key=lambda node: problem.value(node.state))\n",
    "        if problem.value(neighbor.state) >= problem.value(current.state):\n",
    "            break\n",
    "        current = neighbor\n",
    "    return current.state"
   ]
  },
  {
   "cell_type": "code",
   "execution_count": 9,
   "id": "858695ad",
   "metadata": {},
   "outputs": [
    {
     "name": "stdout",
     "output_type": "stream",
     "text": [
      "Hill\n",
      "\n",
      "0 0 0 1 0 0 0 0\n",
      "0 0 0 0 0 1 0 0\n",
      "0 0 0 0 0 0 0 0\n",
      "0 1 0 0 0 0 0 0\n",
      "0 0 0 0 0 0 1 0\n",
      "0 0 0 0 1 0 0 0\n",
      "0 0 1 0 0 0 0 0\n",
      "1 0 0 0 0 0 0 1\n"
     ]
    }
   ],
   "source": [
    "hill_result = hill_climbing_min(problem)\n",
    "print_result(\"Hill\", hill_result)"
   ]
  },
  {
   "cell_type": "markdown",
   "id": "9b19ef44",
   "metadata": {},
   "source": [
    "¿Se ha quedado en un óptimo local?"
   ]
  },
  {
   "cell_type": "code",
   "execution_count": 10,
   "id": "8fbe168a",
   "metadata": {},
   "outputs": [],
   "source": [
    "def exp_schedule(k=20, lam=0.005, limit=100):\n",
    "    \"\"\"One possible schedule function for simulated annealing\"\"\"\n",
    "    return lambda t: (k * np.exp(-lam * t) if t < limit else 0)\n",
    "\n",
    "\n",
    "def simulated_annealing(problem, schedule=exp_schedule()):\n",
    "    \"\"\"[Figure 4.5] CAUTION: This differs from the pseudocode as it\n",
    "    returns a state instead of a Node.\"\"\"\n",
    "    current = Node(problem.initial)\n",
    "    for t in range(sys.maxsize):\n",
    "        T = schedule(t)\n",
    "        if T == 0:\n",
    "            return current.state\n",
    "        neighbors = current.expand(problem)\n",
    "        if not neighbors:\n",
    "            return current.state\n",
    "        next_choice = random.choice(neighbors)\n",
    "        delta_e = problem.value(next_choice.state) - problem.value(current.state)\n",
    "        if delta_e > 0 or probability(np.exp(delta_e / T)):\n",
    "            current = next_choice"
   ]
  },
  {
   "cell_type": "code",
   "execution_count": 11,
   "id": "bff327de",
   "metadata": {},
   "outputs": [
    {
     "name": "stdout",
     "output_type": "stream",
     "text": [
      "Simulated\n",
      "\n",
      "1 0 0 0 0 0 0 0\n",
      "0 0 1 0 0 0 0 0\n",
      "0 0 0 0 0 1 0 0\n",
      "0 0 0 0 0 0 0 0\n",
      "0 1 0 0 0 0 0 0\n",
      "0 0 0 0 1 0 0 0\n",
      "0 0 0 0 0 0 0 0\n",
      "0 0 0 1 0 0 1 1\n"
     ]
    }
   ],
   "source": [
    "ann_result = simulated_annealing(problem)\n",
    "print_result(\"Simulated\", ann_result)"
   ]
  },
  {
   "cell_type": "markdown",
   "id": "63b902b8",
   "metadata": {},
   "source": [
    "##### Créditos\n",
    "El código empleado en esta explicación está basado en el Libro titulado \"Artificial Intelligence: A Modern Approach\" y cuyo repositorio principal de código está en [https://github.com/aimacode/aima-python](https://github.com/aimacode/aima-python)"
   ]
  }
 ],
 "metadata": {
  "kernelspec": {
   "display_name": "Python 3 (ipykernel)",
   "language": "python",
   "name": "python3"
  },
  "language_info": {
   "codemirror_mode": {
    "name": "ipython",
    "version": 3
   },
   "file_extension": ".py",
   "mimetype": "text/x-python",
   "name": "python",
   "nbconvert_exporter": "python",
   "pygments_lexer": "ipython3",
   "version": "3.10.6"
  }
 },
 "nbformat": 4,
 "nbformat_minor": 5
}
